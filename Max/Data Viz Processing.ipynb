{
 "cells": [
  {
   "cell_type": "markdown",
   "metadata": {},
   "source": [
    "# Covid Cases"
   ]
  },
  {
   "cell_type": "code",
   "execution_count": 1,
   "metadata": {},
   "outputs": [
    {
     "output_type": "stream",
     "name": "stderr",
     "text": [
      "D:\\Anaconda\\envs\\bdt\\lib\\site-packages\\numpy\\_distributor_init.py:32: UserWarning: loaded more than 1 DLL from .libs:\nD:\\Anaconda\\envs\\bdt\\lib\\site-packages\\numpy\\.libs\\libopenblas.JPIJNSWNNAN3CE6LLI5FWSPHUT2VXMTH.gfortran-win_amd64.dll\nD:\\Anaconda\\envs\\bdt\\lib\\site-packages\\numpy\\.libs\\libopenblas.PYQHXLVVQ7VESDPUVUADXEVJOBGHJPAY.gfortran-win_amd64.dll\n  stacklevel=1)\n"
     ]
    }
   ],
   "source": [
    "import pandas as pd\n",
    "import numpy as np"
   ]
  },
  {
   "cell_type": "code",
   "execution_count": 2,
   "metadata": {},
   "outputs": [
    {
     "output_type": "stream",
     "name": "stderr",
     "text": [
      "D:\\Anaconda\\envs\\bdt\\lib\\site-packages\\IPython\\core\\interactiveshell.py:3146: DtypeWarning: Columns (13) have mixed types.Specify dtype option on import or set low_memory=False.\n  interactivity=interactivity, compiler=compiler, result=result)\n"
     ]
    }
   ],
   "source": [
    "covid_cases = pd.read_csv('12-08-2020 - 27-04-21 (Master File).csv')"
   ]
  },
  {
   "cell_type": "code",
   "execution_count": 3,
   "metadata": {},
   "outputs": [
    {
     "output_type": "execute_result",
     "data": {
      "text/plain": [
       "FIPS                   float64\n",
       "Admin2                  object\n",
       "Province_State          object\n",
       "Country_Region          object\n",
       "Last_Update             object\n",
       "Lat                    float64\n",
       "Long_                  float64\n",
       "Confirmed                int64\n",
       "Deaths                   int64\n",
       "Recovered              float64\n",
       "Active                 float64\n",
       "Combined_Key            object\n",
       "Incident_Rate          float64\n",
       "Case_Fatality_Ratio     object\n",
       "dtype: object"
      ]
     },
     "metadata": {},
     "execution_count": 3
    }
   ],
   "source": [
    "covid_cases.dtypes"
   ]
  },
  {
   "cell_type": "code",
   "execution_count": 4,
   "metadata": {},
   "outputs": [
    {
     "output_type": "execute_result",
     "data": {
      "text/plain": [
       "   FIPS Admin2 Province_State Country_Region       Last_Update       Lat  \\\n",
       "0   NaN    NaN            NaN    Afghanistan  09/12/2020 05:28  33.93911   \n",
       "1   NaN    NaN            NaN        Albania  09/12/2020 05:28  41.15330   \n",
       "2   NaN    NaN            NaN        Algeria  09/12/2020 05:28  28.03390   \n",
       "3   NaN    NaN            NaN        Andorra  09/12/2020 05:28  42.50630   \n",
       "4   NaN    NaN            NaN         Angola  09/12/2020 05:28 -11.20270   \n",
       "\n",
       "       Long_  Confirmed  Deaths  Recovered   Active Combined_Key  \\\n",
       "0  67.709953      47716    1906    37920.0   7890.0  Afghanistan   \n",
       "1  20.168300      44436     936    22527.0  20973.0      Albania   \n",
       "2   1.659600      89416    2539    58146.0  28731.0      Algeria   \n",
       "3   1.521800       7127      78     6367.0    682.0      Andorra   \n",
       "4  17.873900      15729     355     8470.0   6904.0       Angola   \n",
       "\n",
       "   Incident_Rate Case_Fatality_Ratio  \n",
       "0     122.573937            3.994467  \n",
       "1    1544.096185              2.1064  \n",
       "2     203.908491            2.839537  \n",
       "3    9224.098880             1.09443  \n",
       "4      47.857578            2.256978  "
      ],
      "text/html": "<div>\n<style scoped>\n    .dataframe tbody tr th:only-of-type {\n        vertical-align: middle;\n    }\n\n    .dataframe tbody tr th {\n        vertical-align: top;\n    }\n\n    .dataframe thead th {\n        text-align: right;\n    }\n</style>\n<table border=\"1\" class=\"dataframe\">\n  <thead>\n    <tr style=\"text-align: right;\">\n      <th></th>\n      <th>FIPS</th>\n      <th>Admin2</th>\n      <th>Province_State</th>\n      <th>Country_Region</th>\n      <th>Last_Update</th>\n      <th>Lat</th>\n      <th>Long_</th>\n      <th>Confirmed</th>\n      <th>Deaths</th>\n      <th>Recovered</th>\n      <th>Active</th>\n      <th>Combined_Key</th>\n      <th>Incident_Rate</th>\n      <th>Case_Fatality_Ratio</th>\n    </tr>\n  </thead>\n  <tbody>\n    <tr>\n      <th>0</th>\n      <td>NaN</td>\n      <td>NaN</td>\n      <td>NaN</td>\n      <td>Afghanistan</td>\n      <td>09/12/2020 05:28</td>\n      <td>33.93911</td>\n      <td>67.709953</td>\n      <td>47716</td>\n      <td>1906</td>\n      <td>37920.0</td>\n      <td>7890.0</td>\n      <td>Afghanistan</td>\n      <td>122.573937</td>\n      <td>3.994467</td>\n    </tr>\n    <tr>\n      <th>1</th>\n      <td>NaN</td>\n      <td>NaN</td>\n      <td>NaN</td>\n      <td>Albania</td>\n      <td>09/12/2020 05:28</td>\n      <td>41.15330</td>\n      <td>20.168300</td>\n      <td>44436</td>\n      <td>936</td>\n      <td>22527.0</td>\n      <td>20973.0</td>\n      <td>Albania</td>\n      <td>1544.096185</td>\n      <td>2.1064</td>\n    </tr>\n    <tr>\n      <th>2</th>\n      <td>NaN</td>\n      <td>NaN</td>\n      <td>NaN</td>\n      <td>Algeria</td>\n      <td>09/12/2020 05:28</td>\n      <td>28.03390</td>\n      <td>1.659600</td>\n      <td>89416</td>\n      <td>2539</td>\n      <td>58146.0</td>\n      <td>28731.0</td>\n      <td>Algeria</td>\n      <td>203.908491</td>\n      <td>2.839537</td>\n    </tr>\n    <tr>\n      <th>3</th>\n      <td>NaN</td>\n      <td>NaN</td>\n      <td>NaN</td>\n      <td>Andorra</td>\n      <td>09/12/2020 05:28</td>\n      <td>42.50630</td>\n      <td>1.521800</td>\n      <td>7127</td>\n      <td>78</td>\n      <td>6367.0</td>\n      <td>682.0</td>\n      <td>Andorra</td>\n      <td>9224.098880</td>\n      <td>1.09443</td>\n    </tr>\n    <tr>\n      <th>4</th>\n      <td>NaN</td>\n      <td>NaN</td>\n      <td>NaN</td>\n      <td>Angola</td>\n      <td>09/12/2020 05:28</td>\n      <td>-11.20270</td>\n      <td>17.873900</td>\n      <td>15729</td>\n      <td>355</td>\n      <td>8470.0</td>\n      <td>6904.0</td>\n      <td>Angola</td>\n      <td>47.857578</td>\n      <td>2.256978</td>\n    </tr>\n  </tbody>\n</table>\n</div>"
     },
     "metadata": {},
     "execution_count": 4
    }
   ],
   "source": [
    "covid_cases.head()"
   ]
  },
  {
   "cell_type": "code",
   "execution_count": 5,
   "metadata": {},
   "outputs": [],
   "source": [
    "covid_cases['Last_Update'] = pd.to_datetime(covid_cases['Last_Update'], format = '%d/%m/%Y %M:%S')"
   ]
  },
  {
   "cell_type": "code",
   "execution_count": 6,
   "metadata": {},
   "outputs": [],
   "source": [
    "covid_cases['Last_Update'] = pd.to_datetime(covid_cases['Last_Update']).dt.date"
   ]
  },
  {
   "cell_type": "code",
   "execution_count": 7,
   "metadata": {},
   "outputs": [],
   "source": [
    "covid_cases['date'] = covid_cases['Last_Update'] - np.timedelta64(1,'D')"
   ]
  },
  {
   "cell_type": "code",
   "execution_count": 8,
   "metadata": {},
   "outputs": [
    {
     "output_type": "execute_result",
     "data": {
      "text/plain": [
       "   FIPS Admin2 Province_State Country_Region Last_Update       Lat      Long_  \\\n",
       "0   NaN    NaN            NaN    Afghanistan  2020-12-09  33.93911  67.709953   \n",
       "1   NaN    NaN            NaN        Albania  2020-12-09  41.15330  20.168300   \n",
       "2   NaN    NaN            NaN        Algeria  2020-12-09  28.03390   1.659600   \n",
       "3   NaN    NaN            NaN        Andorra  2020-12-09  42.50630   1.521800   \n",
       "4   NaN    NaN            NaN         Angola  2020-12-09 -11.20270  17.873900   \n",
       "\n",
       "   Confirmed  Deaths  Recovered   Active Combined_Key  Incident_Rate  \\\n",
       "0      47716    1906    37920.0   7890.0  Afghanistan     122.573937   \n",
       "1      44436     936    22527.0  20973.0      Albania    1544.096185   \n",
       "2      89416    2539    58146.0  28731.0      Algeria     203.908491   \n",
       "3       7127      78     6367.0    682.0      Andorra    9224.098880   \n",
       "4      15729     355     8470.0   6904.0       Angola      47.857578   \n",
       "\n",
       "  Case_Fatality_Ratio        date  \n",
       "0            3.994467  2020-12-08  \n",
       "1              2.1064  2020-12-08  \n",
       "2            2.839537  2020-12-08  \n",
       "3             1.09443  2020-12-08  \n",
       "4            2.256978  2020-12-08  "
      ],
      "text/html": "<div>\n<style scoped>\n    .dataframe tbody tr th:only-of-type {\n        vertical-align: middle;\n    }\n\n    .dataframe tbody tr th {\n        vertical-align: top;\n    }\n\n    .dataframe thead th {\n        text-align: right;\n    }\n</style>\n<table border=\"1\" class=\"dataframe\">\n  <thead>\n    <tr style=\"text-align: right;\">\n      <th></th>\n      <th>FIPS</th>\n      <th>Admin2</th>\n      <th>Province_State</th>\n      <th>Country_Region</th>\n      <th>Last_Update</th>\n      <th>Lat</th>\n      <th>Long_</th>\n      <th>Confirmed</th>\n      <th>Deaths</th>\n      <th>Recovered</th>\n      <th>Active</th>\n      <th>Combined_Key</th>\n      <th>Incident_Rate</th>\n      <th>Case_Fatality_Ratio</th>\n      <th>date</th>\n    </tr>\n  </thead>\n  <tbody>\n    <tr>\n      <th>0</th>\n      <td>NaN</td>\n      <td>NaN</td>\n      <td>NaN</td>\n      <td>Afghanistan</td>\n      <td>2020-12-09</td>\n      <td>33.93911</td>\n      <td>67.709953</td>\n      <td>47716</td>\n      <td>1906</td>\n      <td>37920.0</td>\n      <td>7890.0</td>\n      <td>Afghanistan</td>\n      <td>122.573937</td>\n      <td>3.994467</td>\n      <td>2020-12-08</td>\n    </tr>\n    <tr>\n      <th>1</th>\n      <td>NaN</td>\n      <td>NaN</td>\n      <td>NaN</td>\n      <td>Albania</td>\n      <td>2020-12-09</td>\n      <td>41.15330</td>\n      <td>20.168300</td>\n      <td>44436</td>\n      <td>936</td>\n      <td>22527.0</td>\n      <td>20973.0</td>\n      <td>Albania</td>\n      <td>1544.096185</td>\n      <td>2.1064</td>\n      <td>2020-12-08</td>\n    </tr>\n    <tr>\n      <th>2</th>\n      <td>NaN</td>\n      <td>NaN</td>\n      <td>NaN</td>\n      <td>Algeria</td>\n      <td>2020-12-09</td>\n      <td>28.03390</td>\n      <td>1.659600</td>\n      <td>89416</td>\n      <td>2539</td>\n      <td>58146.0</td>\n      <td>28731.0</td>\n      <td>Algeria</td>\n      <td>203.908491</td>\n      <td>2.839537</td>\n      <td>2020-12-08</td>\n    </tr>\n    <tr>\n      <th>3</th>\n      <td>NaN</td>\n      <td>NaN</td>\n      <td>NaN</td>\n      <td>Andorra</td>\n      <td>2020-12-09</td>\n      <td>42.50630</td>\n      <td>1.521800</td>\n      <td>7127</td>\n      <td>78</td>\n      <td>6367.0</td>\n      <td>682.0</td>\n      <td>Andorra</td>\n      <td>9224.098880</td>\n      <td>1.09443</td>\n      <td>2020-12-08</td>\n    </tr>\n    <tr>\n      <th>4</th>\n      <td>NaN</td>\n      <td>NaN</td>\n      <td>NaN</td>\n      <td>Angola</td>\n      <td>2020-12-09</td>\n      <td>-11.20270</td>\n      <td>17.873900</td>\n      <td>15729</td>\n      <td>355</td>\n      <td>8470.0</td>\n      <td>6904.0</td>\n      <td>Angola</td>\n      <td>47.857578</td>\n      <td>2.256978</td>\n      <td>2020-12-08</td>\n    </tr>\n  </tbody>\n</table>\n</div>"
     },
     "metadata": {},
     "execution_count": 8
    }
   ],
   "source": [
    "covid_cases.head()"
   ]
  },
  {
   "cell_type": "code",
   "execution_count": 9,
   "metadata": {},
   "outputs": [],
   "source": [
    "del covid_cases['Last_Update']\n",
    "del covid_cases['FIPS']\n",
    "del covid_cases['Admin2']\n",
    "del covid_cases['Province_State']\n",
    "del covid_cases['Combined_Key']\n",
    "del covid_cases['Lat']\n",
    "del covid_cases['Long_']\n",
    "#Change Korea, South to South Korea\n",
    "covid_cases['Country_Region'].replace(['Korea, South'], 'South Korea', inplace = True)"
   ]
  },
  {
   "cell_type": "code",
   "execution_count": 10,
   "metadata": {},
   "outputs": [],
   "source": [
    "covid_cases = covid_cases.fillna(0)\n",
    "covid_cases = covid_cases.replace('#DIV/0!', 0)\n",
    "covid_cases[\"Case_Fatality_Ratio\"] = pd.to_numeric(covid_cases[\"Case_Fatality_Ratio\"])"
   ]
  },
  {
   "cell_type": "code",
   "execution_count": 11,
   "metadata": {},
   "outputs": [],
   "source": [
    "covid_cases1=covid_cases.groupby(['Country_Region','date'])[['Confirmed','Deaths','Recovered','Active']].sum()"
   ]
  },
  {
   "cell_type": "code",
   "execution_count": 12,
   "metadata": {},
   "outputs": [],
   "source": [
    "covid_cases2=covid_cases.groupby(['Country_Region','date'])[['Incident_Rate','Case_Fatality_Ratio']].mean()"
   ]
  },
  {
   "cell_type": "code",
   "execution_count": 13,
   "metadata": {},
   "outputs": [],
   "source": [
    "covid_cases1=covid_cases1.reset_index()\n",
    "covid_cases2=covid_cases2.reset_index()"
   ]
  },
  {
   "cell_type": "code",
   "execution_count": 14,
   "metadata": {},
   "outputs": [],
   "source": [
    "covid_cases1['Incident_Rate']= covid_cases2['Incident_Rate']\n",
    "covid_cases1['Case_Fatality_Ratio']= covid_cases2['Case_Fatality_Ratio']"
   ]
  },
  {
   "cell_type": "code",
   "execution_count": 15,
   "metadata": {},
   "outputs": [
    {
     "output_type": "execute_result",
     "data": {
      "text/plain": [
       "      Country_Region        date  Confirmed  Deaths  Recovered  Active  \\\n",
       "0        Afghanistan  2020-12-08      47716    1906    37920.0  7890.0   \n",
       "1        Afghanistan  2020-12-09      47851    1919    38032.0  7900.0   \n",
       "2        Afghanistan  2020-12-10      48053    1935    38099.0  8019.0   \n",
       "3        Afghanistan  2020-12-11      48116    1945    38141.0  8030.0   \n",
       "4        Afghanistan  2020-12-12      48229    1956    38200.0  8073.0   \n",
       "...              ...         ...        ...     ...        ...     ...   \n",
       "27025       Zimbabwe  2021-04-23      38045    1556    35094.0  1395.0   \n",
       "27026       Zimbabwe  2021-04-24      38064    1556    35101.0  1407.0   \n",
       "27027       Zimbabwe  2021-04-25      38086    1557    35123.0  1406.0   \n",
       "27028       Zimbabwe  2021-04-26      38102    1560    35149.0  1393.0   \n",
       "27029       Zimbabwe  2021-04-27      38164    1565    35480.0  1119.0   \n",
       "\n",
       "       Incident_Rate  Case_Fatality_Ratio  \n",
       "0         122.573937             3.994467  \n",
       "1         122.920728             4.010366  \n",
       "2         123.439630             4.026804  \n",
       "3         123.601466             4.042314  \n",
       "4         123.891743             4.055651  \n",
       "...              ...                  ...  \n",
       "27025     255.972461             4.089894  \n",
       "27026     256.100296             4.087852  \n",
       "27027     256.248315             4.088116  \n",
       "27028     256.355965             4.094273  \n",
       "27029     256.773111             4.100723  \n",
       "\n",
       "[27030 rows x 8 columns]"
      ],
      "text/html": "<div>\n<style scoped>\n    .dataframe tbody tr th:only-of-type {\n        vertical-align: middle;\n    }\n\n    .dataframe tbody tr th {\n        vertical-align: top;\n    }\n\n    .dataframe thead th {\n        text-align: right;\n    }\n</style>\n<table border=\"1\" class=\"dataframe\">\n  <thead>\n    <tr style=\"text-align: right;\">\n      <th></th>\n      <th>Country_Region</th>\n      <th>date</th>\n      <th>Confirmed</th>\n      <th>Deaths</th>\n      <th>Recovered</th>\n      <th>Active</th>\n      <th>Incident_Rate</th>\n      <th>Case_Fatality_Ratio</th>\n    </tr>\n  </thead>\n  <tbody>\n    <tr>\n      <th>0</th>\n      <td>Afghanistan</td>\n      <td>2020-12-08</td>\n      <td>47716</td>\n      <td>1906</td>\n      <td>37920.0</td>\n      <td>7890.0</td>\n      <td>122.573937</td>\n      <td>3.994467</td>\n    </tr>\n    <tr>\n      <th>1</th>\n      <td>Afghanistan</td>\n      <td>2020-12-09</td>\n      <td>47851</td>\n      <td>1919</td>\n      <td>38032.0</td>\n      <td>7900.0</td>\n      <td>122.920728</td>\n      <td>4.010366</td>\n    </tr>\n    <tr>\n      <th>2</th>\n      <td>Afghanistan</td>\n      <td>2020-12-10</td>\n      <td>48053</td>\n      <td>1935</td>\n      <td>38099.0</td>\n      <td>8019.0</td>\n      <td>123.439630</td>\n      <td>4.026804</td>\n    </tr>\n    <tr>\n      <th>3</th>\n      <td>Afghanistan</td>\n      <td>2020-12-11</td>\n      <td>48116</td>\n      <td>1945</td>\n      <td>38141.0</td>\n      <td>8030.0</td>\n      <td>123.601466</td>\n      <td>4.042314</td>\n    </tr>\n    <tr>\n      <th>4</th>\n      <td>Afghanistan</td>\n      <td>2020-12-12</td>\n      <td>48229</td>\n      <td>1956</td>\n      <td>38200.0</td>\n      <td>8073.0</td>\n      <td>123.891743</td>\n      <td>4.055651</td>\n    </tr>\n    <tr>\n      <th>...</th>\n      <td>...</td>\n      <td>...</td>\n      <td>...</td>\n      <td>...</td>\n      <td>...</td>\n      <td>...</td>\n      <td>...</td>\n      <td>...</td>\n    </tr>\n    <tr>\n      <th>27025</th>\n      <td>Zimbabwe</td>\n      <td>2021-04-23</td>\n      <td>38045</td>\n      <td>1556</td>\n      <td>35094.0</td>\n      <td>1395.0</td>\n      <td>255.972461</td>\n      <td>4.089894</td>\n    </tr>\n    <tr>\n      <th>27026</th>\n      <td>Zimbabwe</td>\n      <td>2021-04-24</td>\n      <td>38064</td>\n      <td>1556</td>\n      <td>35101.0</td>\n      <td>1407.0</td>\n      <td>256.100296</td>\n      <td>4.087852</td>\n    </tr>\n    <tr>\n      <th>27027</th>\n      <td>Zimbabwe</td>\n      <td>2021-04-25</td>\n      <td>38086</td>\n      <td>1557</td>\n      <td>35123.0</td>\n      <td>1406.0</td>\n      <td>256.248315</td>\n      <td>4.088116</td>\n    </tr>\n    <tr>\n      <th>27028</th>\n      <td>Zimbabwe</td>\n      <td>2021-04-26</td>\n      <td>38102</td>\n      <td>1560</td>\n      <td>35149.0</td>\n      <td>1393.0</td>\n      <td>256.355965</td>\n      <td>4.094273</td>\n    </tr>\n    <tr>\n      <th>27029</th>\n      <td>Zimbabwe</td>\n      <td>2021-04-27</td>\n      <td>38164</td>\n      <td>1565</td>\n      <td>35480.0</td>\n      <td>1119.0</td>\n      <td>256.773111</td>\n      <td>4.100723</td>\n    </tr>\n  </tbody>\n</table>\n<p>27030 rows × 8 columns</p>\n</div>"
     },
     "metadata": {},
     "execution_count": 15
    }
   ],
   "source": [
    "covid_cases1"
   ]
  },
  {
   "cell_type": "code",
   "execution_count": 16,
   "metadata": {},
   "outputs": [],
   "source": [
    "covidcases = covid_cases1.rename(columns={'Country_Region': 'country'})\n",
    "covidcases['country'].replace(['US'], 'United States of America', inplace = True)"
   ]
  },
  {
   "cell_type": "code",
   "execution_count": 17,
   "metadata": {},
   "outputs": [
    {
     "output_type": "execute_result",
     "data": {
      "text/plain": [
       "           country        date  Confirmed  Deaths  Recovered  Active  \\\n",
       "0      Afghanistan  2020-12-08      47716    1906    37920.0  7890.0   \n",
       "1      Afghanistan  2020-12-09      47851    1919    38032.0  7900.0   \n",
       "2      Afghanistan  2020-12-10      48053    1935    38099.0  8019.0   \n",
       "3      Afghanistan  2020-12-11      48116    1945    38141.0  8030.0   \n",
       "4      Afghanistan  2020-12-12      48229    1956    38200.0  8073.0   \n",
       "...            ...         ...        ...     ...        ...     ...   \n",
       "27025     Zimbabwe  2021-04-23      38045    1556    35094.0  1395.0   \n",
       "27026     Zimbabwe  2021-04-24      38064    1556    35101.0  1407.0   \n",
       "27027     Zimbabwe  2021-04-25      38086    1557    35123.0  1406.0   \n",
       "27028     Zimbabwe  2021-04-26      38102    1560    35149.0  1393.0   \n",
       "27029     Zimbabwe  2021-04-27      38164    1565    35480.0  1119.0   \n",
       "\n",
       "       Incident_Rate  Case_Fatality_Ratio  \n",
       "0         122.573937             3.994467  \n",
       "1         122.920728             4.010366  \n",
       "2         123.439630             4.026804  \n",
       "3         123.601466             4.042314  \n",
       "4         123.891743             4.055651  \n",
       "...              ...                  ...  \n",
       "27025     255.972461             4.089894  \n",
       "27026     256.100296             4.087852  \n",
       "27027     256.248315             4.088116  \n",
       "27028     256.355965             4.094273  \n",
       "27029     256.773111             4.100723  \n",
       "\n",
       "[27030 rows x 8 columns]"
      ],
      "text/html": "<div>\n<style scoped>\n    .dataframe tbody tr th:only-of-type {\n        vertical-align: middle;\n    }\n\n    .dataframe tbody tr th {\n        vertical-align: top;\n    }\n\n    .dataframe thead th {\n        text-align: right;\n    }\n</style>\n<table border=\"1\" class=\"dataframe\">\n  <thead>\n    <tr style=\"text-align: right;\">\n      <th></th>\n      <th>country</th>\n      <th>date</th>\n      <th>Confirmed</th>\n      <th>Deaths</th>\n      <th>Recovered</th>\n      <th>Active</th>\n      <th>Incident_Rate</th>\n      <th>Case_Fatality_Ratio</th>\n    </tr>\n  </thead>\n  <tbody>\n    <tr>\n      <th>0</th>\n      <td>Afghanistan</td>\n      <td>2020-12-08</td>\n      <td>47716</td>\n      <td>1906</td>\n      <td>37920.0</td>\n      <td>7890.0</td>\n      <td>122.573937</td>\n      <td>3.994467</td>\n    </tr>\n    <tr>\n      <th>1</th>\n      <td>Afghanistan</td>\n      <td>2020-12-09</td>\n      <td>47851</td>\n      <td>1919</td>\n      <td>38032.0</td>\n      <td>7900.0</td>\n      <td>122.920728</td>\n      <td>4.010366</td>\n    </tr>\n    <tr>\n      <th>2</th>\n      <td>Afghanistan</td>\n      <td>2020-12-10</td>\n      <td>48053</td>\n      <td>1935</td>\n      <td>38099.0</td>\n      <td>8019.0</td>\n      <td>123.439630</td>\n      <td>4.026804</td>\n    </tr>\n    <tr>\n      <th>3</th>\n      <td>Afghanistan</td>\n      <td>2020-12-11</td>\n      <td>48116</td>\n      <td>1945</td>\n      <td>38141.0</td>\n      <td>8030.0</td>\n      <td>123.601466</td>\n      <td>4.042314</td>\n    </tr>\n    <tr>\n      <th>4</th>\n      <td>Afghanistan</td>\n      <td>2020-12-12</td>\n      <td>48229</td>\n      <td>1956</td>\n      <td>38200.0</td>\n      <td>8073.0</td>\n      <td>123.891743</td>\n      <td>4.055651</td>\n    </tr>\n    <tr>\n      <th>...</th>\n      <td>...</td>\n      <td>...</td>\n      <td>...</td>\n      <td>...</td>\n      <td>...</td>\n      <td>...</td>\n      <td>...</td>\n      <td>...</td>\n    </tr>\n    <tr>\n      <th>27025</th>\n      <td>Zimbabwe</td>\n      <td>2021-04-23</td>\n      <td>38045</td>\n      <td>1556</td>\n      <td>35094.0</td>\n      <td>1395.0</td>\n      <td>255.972461</td>\n      <td>4.089894</td>\n    </tr>\n    <tr>\n      <th>27026</th>\n      <td>Zimbabwe</td>\n      <td>2021-04-24</td>\n      <td>38064</td>\n      <td>1556</td>\n      <td>35101.0</td>\n      <td>1407.0</td>\n      <td>256.100296</td>\n      <td>4.087852</td>\n    </tr>\n    <tr>\n      <th>27027</th>\n      <td>Zimbabwe</td>\n      <td>2021-04-25</td>\n      <td>38086</td>\n      <td>1557</td>\n      <td>35123.0</td>\n      <td>1406.0</td>\n      <td>256.248315</td>\n      <td>4.088116</td>\n    </tr>\n    <tr>\n      <th>27028</th>\n      <td>Zimbabwe</td>\n      <td>2021-04-26</td>\n      <td>38102</td>\n      <td>1560</td>\n      <td>35149.0</td>\n      <td>1393.0</td>\n      <td>256.355965</td>\n      <td>4.094273</td>\n    </tr>\n    <tr>\n      <th>27029</th>\n      <td>Zimbabwe</td>\n      <td>2021-04-27</td>\n      <td>38164</td>\n      <td>1565</td>\n      <td>35480.0</td>\n      <td>1119.0</td>\n      <td>256.773111</td>\n      <td>4.100723</td>\n    </tr>\n  </tbody>\n</table>\n<p>27030 rows × 8 columns</p>\n</div>"
     },
     "metadata": {},
     "execution_count": 17
    }
   ],
   "source": [
    "covidcases"
   ]
  },
  {
   "cell_type": "code",
   "execution_count": 18,
   "metadata": {},
   "outputs": [
    {
     "output_type": "execute_result",
     "data": {
      "text/plain": [
       "array(['Afghanistan', 'Albania', 'Algeria', 'Andorra', 'Angola',\n",
       "       'Antigua and Barbuda', 'Argentina', 'Armenia', 'Australia',\n",
       "       'Austria', 'Azerbaijan', 'Bahamas', 'Bahrain', 'Bangladesh',\n",
       "       'Barbados', 'Belarus', 'Belgium', 'Belize', 'Benin', 'Bhutan',\n",
       "       'Bolivia', 'Bosnia and Herzegovina', 'Botswana', 'Brazil',\n",
       "       'Brunei', 'Bulgaria', 'Burkina Faso', 'Burma', 'Burundi',\n",
       "       'Cabo Verde', 'Cambodia', 'Cameroon', 'Canada',\n",
       "       'Central African Republic', 'Chad', 'Chile', 'China', 'Colombia',\n",
       "       'Comoros', 'Congo (Brazzaville)', 'Congo (Kinshasa)', 'Costa Rica',\n",
       "       \"Cote d'Ivoire\", 'Croatia', 'Cuba', 'Cyprus', 'Czechia', 'Denmark',\n",
       "       'Diamond Princess', 'Djibouti', 'Dominica', 'Dominican Republic',\n",
       "       'Ecuador', 'Egypt', 'El Salvador', 'Equatorial Guinea', 'Eritrea',\n",
       "       'Estonia', 'Eswatini', 'Ethiopia', 'Fiji', 'Finland', 'France',\n",
       "       'Gabon', 'Gambia', 'Georgia', 'Germany', 'Ghana', 'Greece',\n",
       "       'Grenada', 'Guatemala', 'Guinea', 'Guinea-Bissau', 'Guyana',\n",
       "       'Haiti', 'Holy See', 'Honduras', 'Hungary', 'Iceland', 'India',\n",
       "       'Indonesia', 'Iran', 'Iraq', 'Ireland', 'Israel', 'Italy',\n",
       "       'Jamaica', 'Japan', 'Jordan', 'Kazakhstan', 'Kenya', 'Kosovo',\n",
       "       'Kuwait', 'Kyrgyzstan', 'Laos', 'Latvia', 'Lebanon', 'Lesotho',\n",
       "       'Liberia', 'Libya', 'Liechtenstein', 'Lithuania', 'Luxembourg',\n",
       "       'MS Zaandam', 'Madagascar', 'Malawi', 'Malaysia', 'Maldives',\n",
       "       'Mali', 'Malta', 'Marshall Islands', 'Mauritania', 'Mauritius',\n",
       "       'Mexico', 'Micronesia', 'Moldova', 'Monaco', 'Mongolia',\n",
       "       'Montenegro', 'Morocco', 'Mozambique', 'Namibia', 'Nepal',\n",
       "       'Netherlands', 'New Zealand', 'Nicaragua', 'Niger', 'Nigeria',\n",
       "       'North Macedonia', 'Norway', 'Oman', 'Pakistan', 'Panama',\n",
       "       'Papua New Guinea', 'Paraguay', 'Peru', 'Philippines', 'Poland',\n",
       "       'Portugal', 'Qatar', 'Romania', 'Russia', 'Rwanda',\n",
       "       'Saint Kitts and Nevis', 'Saint Lucia',\n",
       "       'Saint Vincent and the Grenadines', 'Samoa', 'San Marino',\n",
       "       'Sao Tome and Principe', 'Saudi Arabia', 'Senegal', 'Serbia',\n",
       "       'Seychelles', 'Sierra Leone', 'Singapore', 'Slovakia', 'Slovenia',\n",
       "       'Solomon Islands', 'Somalia', 'South Africa', 'South Korea',\n",
       "       'South Sudan', 'Spain', 'Sri Lanka', 'Sudan', 'Suriname', 'Sweden',\n",
       "       'Switzerland', 'Syria', 'Taiwan*', 'Tajikistan', 'Tanzania',\n",
       "       'Thailand', 'Timor-Leste', 'Togo', 'Trinidad and Tobago',\n",
       "       'Tunisia', 'Turkey', 'United States of America', 'Uganda',\n",
       "       'Ukraine', 'United Arab Emirates', 'United Kingdom', 'Uruguay',\n",
       "       'Uzbekistan', 'Vanuatu', 'Venezuela', 'Vietnam',\n",
       "       'West Bank and Gaza', 'Yemen', 'Zambia', 'Zimbabwe'], dtype=object)"
      ]
     },
     "metadata": {},
     "execution_count": 18
    }
   ],
   "source": [
    "covidcases['country'].unique()"
   ]
  },
  {
   "cell_type": "markdown",
   "metadata": {},
   "source": [
    "# Covid Vaccines"
   ]
  },
  {
   "cell_type": "code",
   "execution_count": 19,
   "metadata": {},
   "outputs": [],
   "source": [
    "covid_vaccines = pd.read_csv('country_vaccinations.csv')"
   ]
  },
  {
   "cell_type": "code",
   "execution_count": 20,
   "metadata": {},
   "outputs": [],
   "source": [
    "del covid_vaccines['iso_code']\n",
    "del covid_vaccines['source_name']\n",
    "del covid_vaccines['source_website']"
   ]
  },
  {
   "cell_type": "code",
   "execution_count": 21,
   "metadata": {},
   "outputs": [
    {
     "output_type": "execute_result",
     "data": {
      "text/plain": [
       "           country        date  total_vaccinations  people_vaccinated  \\\n",
       "0      Afghanistan  22/02/2021                 0.0                0.0   \n",
       "1      Afghanistan  23/02/2021                 NaN                NaN   \n",
       "2      Afghanistan  24/02/2021                 NaN                NaN   \n",
       "3      Afghanistan  25/02/2021                 NaN                NaN   \n",
       "4      Afghanistan  26/02/2021                 NaN                NaN   \n",
       "...            ...         ...                 ...                ...   \n",
       "13921     Zimbabwe  20/04/2021            325007.0           288229.0   \n",
       "13922     Zimbabwe  21/04/2021            332996.0           295631.0   \n",
       "13923     Zimbabwe  22/04/2021            351799.0           308071.0   \n",
       "13924     Zimbabwe  23/04/2021            365985.0           319732.0   \n",
       "13925     Zimbabwe  24/04/2021            372099.0           324488.0   \n",
       "\n",
       "       people_fully_vaccinated  daily_vaccinations_raw  daily_vaccinations  \\\n",
       "0                          NaN                     NaN                 NaN   \n",
       "1                          NaN                     NaN              1367.0   \n",
       "2                          NaN                     NaN              1367.0   \n",
       "3                          NaN                     NaN              1367.0   \n",
       "4                          NaN                     NaN              1367.0   \n",
       "...                        ...                     ...                 ...   \n",
       "13921                  36778.0                  8016.0             10950.0   \n",
       "13922                  37365.0                  7989.0             10124.0   \n",
       "13923                  43728.0                 18803.0              9417.0   \n",
       "13924                  46253.0                 14186.0              8755.0   \n",
       "13925                  47611.0                  6114.0              8600.0   \n",
       "\n",
       "       total_vaccinations_per_hundred  people_vaccinated_per_hundred  \\\n",
       "0                                0.00                           0.00   \n",
       "1                                 NaN                            NaN   \n",
       "2                                 NaN                            NaN   \n",
       "3                                 NaN                            NaN   \n",
       "4                                 NaN                            NaN   \n",
       "...                               ...                            ...   \n",
       "13921                            2.19                           1.94   \n",
       "13922                            2.24                           1.99   \n",
       "13923                            2.37                           2.07   \n",
       "13924                            2.46                           2.15   \n",
       "13925                            2.50                           2.18   \n",
       "\n",
       "       people_fully_vaccinated_per_hundred  daily_vaccinations_per_million  \\\n",
       "0                                      NaN                             NaN   \n",
       "1                                      NaN                            35.0   \n",
       "2                                      NaN                            35.0   \n",
       "3                                      NaN                            35.0   \n",
       "4                                      NaN                            35.0   \n",
       "...                                    ...                             ...   \n",
       "13921                                 0.25                           737.0   \n",
       "13922                                 0.25                           681.0   \n",
       "13923                                 0.29                           634.0   \n",
       "13924                                 0.31                           589.0   \n",
       "13925                                 0.32                           579.0   \n",
       "\n",
       "                 vaccines  \n",
       "0      Oxford/AstraZeneca  \n",
       "1      Oxford/AstraZeneca  \n",
       "2      Oxford/AstraZeneca  \n",
       "3      Oxford/AstraZeneca  \n",
       "4      Oxford/AstraZeneca  \n",
       "...                   ...  \n",
       "13921   Sinopharm/Beijing  \n",
       "13922   Sinopharm/Beijing  \n",
       "13923   Sinopharm/Beijing  \n",
       "13924   Sinopharm/Beijing  \n",
       "13925   Sinopharm/Beijing  \n",
       "\n",
       "[13926 rows x 12 columns]"
      ],
      "text/html": "<div>\n<style scoped>\n    .dataframe tbody tr th:only-of-type {\n        vertical-align: middle;\n    }\n\n    .dataframe tbody tr th {\n        vertical-align: top;\n    }\n\n    .dataframe thead th {\n        text-align: right;\n    }\n</style>\n<table border=\"1\" class=\"dataframe\">\n  <thead>\n    <tr style=\"text-align: right;\">\n      <th></th>\n      <th>country</th>\n      <th>date</th>\n      <th>total_vaccinations</th>\n      <th>people_vaccinated</th>\n      <th>people_fully_vaccinated</th>\n      <th>daily_vaccinations_raw</th>\n      <th>daily_vaccinations</th>\n      <th>total_vaccinations_per_hundred</th>\n      <th>people_vaccinated_per_hundred</th>\n      <th>people_fully_vaccinated_per_hundred</th>\n      <th>daily_vaccinations_per_million</th>\n      <th>vaccines</th>\n    </tr>\n  </thead>\n  <tbody>\n    <tr>\n      <th>0</th>\n      <td>Afghanistan</td>\n      <td>22/02/2021</td>\n      <td>0.0</td>\n      <td>0.0</td>\n      <td>NaN</td>\n      <td>NaN</td>\n      <td>NaN</td>\n      <td>0.00</td>\n      <td>0.00</td>\n      <td>NaN</td>\n      <td>NaN</td>\n      <td>Oxford/AstraZeneca</td>\n    </tr>\n    <tr>\n      <th>1</th>\n      <td>Afghanistan</td>\n      <td>23/02/2021</td>\n      <td>NaN</td>\n      <td>NaN</td>\n      <td>NaN</td>\n      <td>NaN</td>\n      <td>1367.0</td>\n      <td>NaN</td>\n      <td>NaN</td>\n      <td>NaN</td>\n      <td>35.0</td>\n      <td>Oxford/AstraZeneca</td>\n    </tr>\n    <tr>\n      <th>2</th>\n      <td>Afghanistan</td>\n      <td>24/02/2021</td>\n      <td>NaN</td>\n      <td>NaN</td>\n      <td>NaN</td>\n      <td>NaN</td>\n      <td>1367.0</td>\n      <td>NaN</td>\n      <td>NaN</td>\n      <td>NaN</td>\n      <td>35.0</td>\n      <td>Oxford/AstraZeneca</td>\n    </tr>\n    <tr>\n      <th>3</th>\n      <td>Afghanistan</td>\n      <td>25/02/2021</td>\n      <td>NaN</td>\n      <td>NaN</td>\n      <td>NaN</td>\n      <td>NaN</td>\n      <td>1367.0</td>\n      <td>NaN</td>\n      <td>NaN</td>\n      <td>NaN</td>\n      <td>35.0</td>\n      <td>Oxford/AstraZeneca</td>\n    </tr>\n    <tr>\n      <th>4</th>\n      <td>Afghanistan</td>\n      <td>26/02/2021</td>\n      <td>NaN</td>\n      <td>NaN</td>\n      <td>NaN</td>\n      <td>NaN</td>\n      <td>1367.0</td>\n      <td>NaN</td>\n      <td>NaN</td>\n      <td>NaN</td>\n      <td>35.0</td>\n      <td>Oxford/AstraZeneca</td>\n    </tr>\n    <tr>\n      <th>...</th>\n      <td>...</td>\n      <td>...</td>\n      <td>...</td>\n      <td>...</td>\n      <td>...</td>\n      <td>...</td>\n      <td>...</td>\n      <td>...</td>\n      <td>...</td>\n      <td>...</td>\n      <td>...</td>\n      <td>...</td>\n    </tr>\n    <tr>\n      <th>13921</th>\n      <td>Zimbabwe</td>\n      <td>20/04/2021</td>\n      <td>325007.0</td>\n      <td>288229.0</td>\n      <td>36778.0</td>\n      <td>8016.0</td>\n      <td>10950.0</td>\n      <td>2.19</td>\n      <td>1.94</td>\n      <td>0.25</td>\n      <td>737.0</td>\n      <td>Sinopharm/Beijing</td>\n    </tr>\n    <tr>\n      <th>13922</th>\n      <td>Zimbabwe</td>\n      <td>21/04/2021</td>\n      <td>332996.0</td>\n      <td>295631.0</td>\n      <td>37365.0</td>\n      <td>7989.0</td>\n      <td>10124.0</td>\n      <td>2.24</td>\n      <td>1.99</td>\n      <td>0.25</td>\n      <td>681.0</td>\n      <td>Sinopharm/Beijing</td>\n    </tr>\n    <tr>\n      <th>13923</th>\n      <td>Zimbabwe</td>\n      <td>22/04/2021</td>\n      <td>351799.0</td>\n      <td>308071.0</td>\n      <td>43728.0</td>\n      <td>18803.0</td>\n      <td>9417.0</td>\n      <td>2.37</td>\n      <td>2.07</td>\n      <td>0.29</td>\n      <td>634.0</td>\n      <td>Sinopharm/Beijing</td>\n    </tr>\n    <tr>\n      <th>13924</th>\n      <td>Zimbabwe</td>\n      <td>23/04/2021</td>\n      <td>365985.0</td>\n      <td>319732.0</td>\n      <td>46253.0</td>\n      <td>14186.0</td>\n      <td>8755.0</td>\n      <td>2.46</td>\n      <td>2.15</td>\n      <td>0.31</td>\n      <td>589.0</td>\n      <td>Sinopharm/Beijing</td>\n    </tr>\n    <tr>\n      <th>13925</th>\n      <td>Zimbabwe</td>\n      <td>24/04/2021</td>\n      <td>372099.0</td>\n      <td>324488.0</td>\n      <td>47611.0</td>\n      <td>6114.0</td>\n      <td>8600.0</td>\n      <td>2.50</td>\n      <td>2.18</td>\n      <td>0.32</td>\n      <td>579.0</td>\n      <td>Sinopharm/Beijing</td>\n    </tr>\n  </tbody>\n</table>\n<p>13926 rows × 12 columns</p>\n</div>"
     },
     "metadata": {},
     "execution_count": 21
    }
   ],
   "source": [
    "covid_vaccines"
   ]
  },
  {
   "cell_type": "code",
   "execution_count": 22,
   "metadata": {},
   "outputs": [],
   "source": [
    "covid_vaccines['date'] = pd.to_datetime(covid_vaccines['date'], format = '%d/%m/%Y')\n",
    "covid_vaccines['date'] = pd.to_datetime(covid_vaccines['date']).dt.date"
   ]
  },
  {
   "cell_type": "code",
   "execution_count": 23,
   "metadata": {},
   "outputs": [
    {
     "output_type": "execute_result",
     "data": {
      "text/plain": [
       "country                                 object\n",
       "date                                    object\n",
       "total_vaccinations                     float64\n",
       "people_vaccinated                      float64\n",
       "people_fully_vaccinated                float64\n",
       "daily_vaccinations_raw                 float64\n",
       "daily_vaccinations                     float64\n",
       "total_vaccinations_per_hundred         float64\n",
       "people_vaccinated_per_hundred          float64\n",
       "people_fully_vaccinated_per_hundred    float64\n",
       "daily_vaccinations_per_million         float64\n",
       "vaccines                                object\n",
       "dtype: object"
      ]
     },
     "metadata": {},
     "execution_count": 23
    }
   ],
   "source": [
    "covid_vaccines.dtypes"
   ]
  },
  {
   "cell_type": "code",
   "execution_count": 24,
   "metadata": {},
   "outputs": [],
   "source": [
    "covid_vaccines = covid_vaccines.fillna(0)"
   ]
  },
  {
   "cell_type": "code",
   "execution_count": 25,
   "metadata": {},
   "outputs": [],
   "source": [
    "#Merge UK countries\n",
    "covid_vaccines['country'].replace(['England', 'Wales', 'Scotland', 'Northern Ireland'], 'United Kingdom', inplace = True)\n",
    "#Change United States to Unites States of America\n",
    "covid_vaccines['country'].replace(['United States'], 'United States of America', inplace = True)\n",
    "#Correct Spelling of Faroe Islands\n",
    "covid_vaccines['country'].replace(['Faeroe Islands'], 'Faroe Islands', inplace = True)\n",
    "#Change Northern Cyprus to Cyprus\n",
    "covid_vaccines['country'].replace(['Northern Cyprus'], 'Cyprus', inplace = True)"
   ]
  },
  {
   "cell_type": "code",
   "execution_count": 26,
   "metadata": {},
   "outputs": [
    {
     "output_type": "execute_result",
     "data": {
      "text/plain": [
       "           country        date  total_vaccinations  people_vaccinated  \\\n",
       "0      Afghanistan  2021-02-22                 0.0                0.0   \n",
       "1      Afghanistan  2021-02-23                 0.0                0.0   \n",
       "2      Afghanistan  2021-02-24                 0.0                0.0   \n",
       "3      Afghanistan  2021-02-25                 0.0                0.0   \n",
       "4      Afghanistan  2021-02-26                 0.0                0.0   \n",
       "...            ...         ...                 ...                ...   \n",
       "13921     Zimbabwe  2021-04-20            325007.0           288229.0   \n",
       "13922     Zimbabwe  2021-04-21            332996.0           295631.0   \n",
       "13923     Zimbabwe  2021-04-22            351799.0           308071.0   \n",
       "13924     Zimbabwe  2021-04-23            365985.0           319732.0   \n",
       "13925     Zimbabwe  2021-04-24            372099.0           324488.0   \n",
       "\n",
       "       people_fully_vaccinated  daily_vaccinations_raw  daily_vaccinations  \\\n",
       "0                          0.0                     0.0                 0.0   \n",
       "1                          0.0                     0.0              1367.0   \n",
       "2                          0.0                     0.0              1367.0   \n",
       "3                          0.0                     0.0              1367.0   \n",
       "4                          0.0                     0.0              1367.0   \n",
       "...                        ...                     ...                 ...   \n",
       "13921                  36778.0                  8016.0             10950.0   \n",
       "13922                  37365.0                  7989.0             10124.0   \n",
       "13923                  43728.0                 18803.0              9417.0   \n",
       "13924                  46253.0                 14186.0              8755.0   \n",
       "13925                  47611.0                  6114.0              8600.0   \n",
       "\n",
       "       total_vaccinations_per_hundred  people_vaccinated_per_hundred  \\\n",
       "0                                0.00                           0.00   \n",
       "1                                0.00                           0.00   \n",
       "2                                0.00                           0.00   \n",
       "3                                0.00                           0.00   \n",
       "4                                0.00                           0.00   \n",
       "...                               ...                            ...   \n",
       "13921                            2.19                           1.94   \n",
       "13922                            2.24                           1.99   \n",
       "13923                            2.37                           2.07   \n",
       "13924                            2.46                           2.15   \n",
       "13925                            2.50                           2.18   \n",
       "\n",
       "       people_fully_vaccinated_per_hundred  daily_vaccinations_per_million  \\\n",
       "0                                     0.00                             0.0   \n",
       "1                                     0.00                            35.0   \n",
       "2                                     0.00                            35.0   \n",
       "3                                     0.00                            35.0   \n",
       "4                                     0.00                            35.0   \n",
       "...                                    ...                             ...   \n",
       "13921                                 0.25                           737.0   \n",
       "13922                                 0.25                           681.0   \n",
       "13923                                 0.29                           634.0   \n",
       "13924                                 0.31                           589.0   \n",
       "13925                                 0.32                           579.0   \n",
       "\n",
       "                 vaccines  \n",
       "0      Oxford/AstraZeneca  \n",
       "1      Oxford/AstraZeneca  \n",
       "2      Oxford/AstraZeneca  \n",
       "3      Oxford/AstraZeneca  \n",
       "4      Oxford/AstraZeneca  \n",
       "...                   ...  \n",
       "13921   Sinopharm/Beijing  \n",
       "13922   Sinopharm/Beijing  \n",
       "13923   Sinopharm/Beijing  \n",
       "13924   Sinopharm/Beijing  \n",
       "13925   Sinopharm/Beijing  \n",
       "\n",
       "[13926 rows x 12 columns]"
      ],
      "text/html": "<div>\n<style scoped>\n    .dataframe tbody tr th:only-of-type {\n        vertical-align: middle;\n    }\n\n    .dataframe tbody tr th {\n        vertical-align: top;\n    }\n\n    .dataframe thead th {\n        text-align: right;\n    }\n</style>\n<table border=\"1\" class=\"dataframe\">\n  <thead>\n    <tr style=\"text-align: right;\">\n      <th></th>\n      <th>country</th>\n      <th>date</th>\n      <th>total_vaccinations</th>\n      <th>people_vaccinated</th>\n      <th>people_fully_vaccinated</th>\n      <th>daily_vaccinations_raw</th>\n      <th>daily_vaccinations</th>\n      <th>total_vaccinations_per_hundred</th>\n      <th>people_vaccinated_per_hundred</th>\n      <th>people_fully_vaccinated_per_hundred</th>\n      <th>daily_vaccinations_per_million</th>\n      <th>vaccines</th>\n    </tr>\n  </thead>\n  <tbody>\n    <tr>\n      <th>0</th>\n      <td>Afghanistan</td>\n      <td>2021-02-22</td>\n      <td>0.0</td>\n      <td>0.0</td>\n      <td>0.0</td>\n      <td>0.0</td>\n      <td>0.0</td>\n      <td>0.00</td>\n      <td>0.00</td>\n      <td>0.00</td>\n      <td>0.0</td>\n      <td>Oxford/AstraZeneca</td>\n    </tr>\n    <tr>\n      <th>1</th>\n      <td>Afghanistan</td>\n      <td>2021-02-23</td>\n      <td>0.0</td>\n      <td>0.0</td>\n      <td>0.0</td>\n      <td>0.0</td>\n      <td>1367.0</td>\n      <td>0.00</td>\n      <td>0.00</td>\n      <td>0.00</td>\n      <td>35.0</td>\n      <td>Oxford/AstraZeneca</td>\n    </tr>\n    <tr>\n      <th>2</th>\n      <td>Afghanistan</td>\n      <td>2021-02-24</td>\n      <td>0.0</td>\n      <td>0.0</td>\n      <td>0.0</td>\n      <td>0.0</td>\n      <td>1367.0</td>\n      <td>0.00</td>\n      <td>0.00</td>\n      <td>0.00</td>\n      <td>35.0</td>\n      <td>Oxford/AstraZeneca</td>\n    </tr>\n    <tr>\n      <th>3</th>\n      <td>Afghanistan</td>\n      <td>2021-02-25</td>\n      <td>0.0</td>\n      <td>0.0</td>\n      <td>0.0</td>\n      <td>0.0</td>\n      <td>1367.0</td>\n      <td>0.00</td>\n      <td>0.00</td>\n      <td>0.00</td>\n      <td>35.0</td>\n      <td>Oxford/AstraZeneca</td>\n    </tr>\n    <tr>\n      <th>4</th>\n      <td>Afghanistan</td>\n      <td>2021-02-26</td>\n      <td>0.0</td>\n      <td>0.0</td>\n      <td>0.0</td>\n      <td>0.0</td>\n      <td>1367.0</td>\n      <td>0.00</td>\n      <td>0.00</td>\n      <td>0.00</td>\n      <td>35.0</td>\n      <td>Oxford/AstraZeneca</td>\n    </tr>\n    <tr>\n      <th>...</th>\n      <td>...</td>\n      <td>...</td>\n      <td>...</td>\n      <td>...</td>\n      <td>...</td>\n      <td>...</td>\n      <td>...</td>\n      <td>...</td>\n      <td>...</td>\n      <td>...</td>\n      <td>...</td>\n      <td>...</td>\n    </tr>\n    <tr>\n      <th>13921</th>\n      <td>Zimbabwe</td>\n      <td>2021-04-20</td>\n      <td>325007.0</td>\n      <td>288229.0</td>\n      <td>36778.0</td>\n      <td>8016.0</td>\n      <td>10950.0</td>\n      <td>2.19</td>\n      <td>1.94</td>\n      <td>0.25</td>\n      <td>737.0</td>\n      <td>Sinopharm/Beijing</td>\n    </tr>\n    <tr>\n      <th>13922</th>\n      <td>Zimbabwe</td>\n      <td>2021-04-21</td>\n      <td>332996.0</td>\n      <td>295631.0</td>\n      <td>37365.0</td>\n      <td>7989.0</td>\n      <td>10124.0</td>\n      <td>2.24</td>\n      <td>1.99</td>\n      <td>0.25</td>\n      <td>681.0</td>\n      <td>Sinopharm/Beijing</td>\n    </tr>\n    <tr>\n      <th>13923</th>\n      <td>Zimbabwe</td>\n      <td>2021-04-22</td>\n      <td>351799.0</td>\n      <td>308071.0</td>\n      <td>43728.0</td>\n      <td>18803.0</td>\n      <td>9417.0</td>\n      <td>2.37</td>\n      <td>2.07</td>\n      <td>0.29</td>\n      <td>634.0</td>\n      <td>Sinopharm/Beijing</td>\n    </tr>\n    <tr>\n      <th>13924</th>\n      <td>Zimbabwe</td>\n      <td>2021-04-23</td>\n      <td>365985.0</td>\n      <td>319732.0</td>\n      <td>46253.0</td>\n      <td>14186.0</td>\n      <td>8755.0</td>\n      <td>2.46</td>\n      <td>2.15</td>\n      <td>0.31</td>\n      <td>589.0</td>\n      <td>Sinopharm/Beijing</td>\n    </tr>\n    <tr>\n      <th>13925</th>\n      <td>Zimbabwe</td>\n      <td>2021-04-24</td>\n      <td>372099.0</td>\n      <td>324488.0</td>\n      <td>47611.0</td>\n      <td>6114.0</td>\n      <td>8600.0</td>\n      <td>2.50</td>\n      <td>2.18</td>\n      <td>0.32</td>\n      <td>579.0</td>\n      <td>Sinopharm/Beijing</td>\n    </tr>\n  </tbody>\n</table>\n<p>13926 rows × 12 columns</p>\n</div>"
     },
     "metadata": {},
     "execution_count": 26
    }
   ],
   "source": [
    "covid_vaccines"
   ]
  },
  {
   "cell_type": "code",
   "execution_count": 27,
   "metadata": {},
   "outputs": [
    {
     "output_type": "execute_result",
     "data": {
      "text/plain": [
       "array(['Afghanistan', 'Albania', 'Algeria', 'Andorra', 'Angola',\n",
       "       'Anguilla', 'Antigua and Barbuda', 'Argentina', 'Armenia', 'Aruba',\n",
       "       'Australia', 'Austria', 'Azerbaijan', 'Bahamas', 'Bahrain',\n",
       "       'Bangladesh', 'Barbados', 'Belarus', 'Belgium', 'Belize',\n",
       "       'Bermuda', 'Bhutan', 'Bolivia', 'Bosnia and Herzegovina',\n",
       "       'Botswana', 'Brazil', 'Brunei', 'Bulgaria', 'Cambodia', 'Cameroon',\n",
       "       'Canada', 'Cape Verde', 'Cayman Islands', 'Chile', 'China',\n",
       "       'Colombia', 'Congo', 'Costa Rica', \"Cote d'Ivoire\", 'Croatia',\n",
       "       'Curacao', 'Cyprus', 'Czechia', 'Denmark', 'Djibouti', 'Dominica',\n",
       "       'Dominican Republic', 'Ecuador', 'Egypt', 'El Salvador',\n",
       "       'United Kingdom', 'Equatorial Guinea', 'Estonia', 'Eswatini',\n",
       "       'Ethiopia', 'Faroe Islands', 'Falkland Islands', 'Fiji', 'Finland',\n",
       "       'France', 'Gabon', 'Gambia', 'Georgia', 'Germany', 'Ghana',\n",
       "       'Gibraltar', 'Greece', 'Greenland', 'Grenada', 'Guatemala',\n",
       "       'Guernsey', 'Guinea', 'Guyana', 'Honduras', 'Hong Kong', 'Hungary',\n",
       "       'Iceland', 'India', 'Indonesia', 'Iran', 'Iraq', 'Ireland',\n",
       "       'Isle of Man', 'Israel', 'Italy', 'Jamaica', 'Japan', 'Jersey',\n",
       "       'Jordan', 'Kazakhstan', 'Kenya', 'Kosovo', 'Kuwait', 'Kyrgyzstan',\n",
       "       'Laos', 'Latvia', 'Lebanon', 'Lesotho', 'Libya', 'Liechtenstein',\n",
       "       'Lithuania', 'Luxembourg', 'Macao', 'Malawi', 'Malaysia',\n",
       "       'Maldives', 'Mali', 'Malta', 'Mauritania', 'Mauritius', 'Mexico',\n",
       "       'Moldova', 'Monaco', 'Mongolia', 'Montenegro', 'Montserrat',\n",
       "       'Morocco', 'Mozambique', 'Myanmar', 'Namibia', 'Nauru', 'Nepal',\n",
       "       'Netherlands', 'New Zealand', 'Nicaragua', 'Niger', 'Nigeria',\n",
       "       'North Macedonia', 'Norway', 'Oman', 'Pakistan', 'Palestine',\n",
       "       'Panama', 'Papua New Guinea', 'Paraguay', 'Peru', 'Philippines',\n",
       "       'Poland', 'Portugal', 'Qatar', 'Romania', 'Russia', 'Rwanda',\n",
       "       'Saint Helena', 'Saint Kitts and Nevis', 'Saint Lucia',\n",
       "       'Saint Vincent and the Grenadines', 'San Marino',\n",
       "       'Sao Tome and Principe', 'Saudi Arabia', 'Senegal', 'Serbia',\n",
       "       'Seychelles', 'Sierra Leone', 'Singapore', 'Slovakia', 'Slovenia',\n",
       "       'Solomon Islands', 'Somalia', 'South Africa', 'South Korea',\n",
       "       'South Sudan', 'Spain', 'Sri Lanka', 'Sudan', 'Suriname', 'Sweden',\n",
       "       'Switzerland', 'Syria', 'Taiwan', 'Thailand', 'Timor', 'Togo',\n",
       "       'Tonga', 'Trinidad and Tobago', 'Tunisia', 'Turkey',\n",
       "       'Turks and Caicos Islands', 'Uganda', 'Ukraine',\n",
       "       'United Arab Emirates', 'United States of America', 'Uruguay',\n",
       "       'Uzbekistan', 'Venezuela', 'Vietnam', 'Zambia', 'Zimbabwe'],\n",
       "      dtype=object)"
      ]
     },
     "metadata": {},
     "execution_count": 27
    }
   ],
   "source": [
    "covid_vaccines['country'].unique()"
   ]
  },
  {
   "cell_type": "markdown",
   "metadata": {},
   "source": [
    "# Export CSV Files"
   ]
  },
  {
   "cell_type": "code",
   "execution_count": 28,
   "metadata": {},
   "outputs": [],
   "source": [
    "#covidcases.to_csv('Covid Cases',index = False, header=True)\n",
    "#covid_vaccines.to_csv('Covid Vaccines',index = False, header=True)"
   ]
  },
  {
   "cell_type": "markdown",
   "metadata": {},
   "source": [
    "# Covid Cases and Vaccines Merged"
   ]
  },
  {
   "cell_type": "code",
   "execution_count": 29,
   "metadata": {},
   "outputs": [],
   "source": [
    "merged_data = pd.merge(covidcases, covid_vaccines, how='inner')"
   ]
  },
  {
   "cell_type": "code",
   "execution_count": 30,
   "metadata": {},
   "outputs": [
    {
     "output_type": "execute_result",
     "data": {
      "text/plain": [
       "           country        date  Confirmed  Deaths  Recovered  Active  \\\n",
       "0      Afghanistan  2021-02-22      55617    2433    48895.0  4289.0   \n",
       "1      Afghanistan  2021-02-23      55646    2435    48967.0  4244.0   \n",
       "2      Afghanistan  2021-02-24      55664    2436    49086.0  4142.0   \n",
       "3      Afghanistan  2021-02-25      55680    2438    49281.0  3961.0   \n",
       "4      Afghanistan  2021-02-26      55696    2442    49285.0  3969.0   \n",
       "...            ...         ...        ...     ...        ...     ...   \n",
       "12447     Zimbabwe  2021-04-20      37875    1554    35058.0  1263.0   \n",
       "12448     Zimbabwe  2021-04-21      37980    1555    35065.0  1360.0   \n",
       "12449     Zimbabwe  2021-04-22      38018    1555    35073.0  1390.0   \n",
       "12450     Zimbabwe  2021-04-23      38045    1556    35094.0  1395.0   \n",
       "12451     Zimbabwe  2021-04-24      38064    1556    35101.0  1407.0   \n",
       "\n",
       "       Incident_Rate  Case_Fatality_Ratio  total_vaccinations  \\\n",
       "0         142.870204             4.374562                 0.0   \n",
       "1         142.944699             4.375876                 0.0   \n",
       "2         142.990938             4.376258                 0.0   \n",
       "3         143.032039             4.378592                 0.0   \n",
       "4         143.073140             4.384516                 0.0   \n",
       "...              ...                  ...                 ...   \n",
       "12447     254.828675             4.102970            325007.0   \n",
       "12448     255.535131             4.094260            332996.0   \n",
       "12449     255.790801             4.090168            351799.0   \n",
       "12450     255.972461             4.089894            365985.0   \n",
       "12451     256.100296             4.087852            372099.0   \n",
       "\n",
       "       people_vaccinated  people_fully_vaccinated  daily_vaccinations_raw  \\\n",
       "0                    0.0                      0.0                     0.0   \n",
       "1                    0.0                      0.0                     0.0   \n",
       "2                    0.0                      0.0                     0.0   \n",
       "3                    0.0                      0.0                     0.0   \n",
       "4                    0.0                      0.0                     0.0   \n",
       "...                  ...                      ...                     ...   \n",
       "12447           288229.0                  36778.0                  8016.0   \n",
       "12448           295631.0                  37365.0                  7989.0   \n",
       "12449           308071.0                  43728.0                 18803.0   \n",
       "12450           319732.0                  46253.0                 14186.0   \n",
       "12451           324488.0                  47611.0                  6114.0   \n",
       "\n",
       "       daily_vaccinations  total_vaccinations_per_hundred  \\\n",
       "0                     0.0                            0.00   \n",
       "1                  1367.0                            0.00   \n",
       "2                  1367.0                            0.00   \n",
       "3                  1367.0                            0.00   \n",
       "4                  1367.0                            0.00   \n",
       "...                   ...                             ...   \n",
       "12447             10950.0                            2.19   \n",
       "12448             10124.0                            2.24   \n",
       "12449              9417.0                            2.37   \n",
       "12450              8755.0                            2.46   \n",
       "12451              8600.0                            2.50   \n",
       "\n",
       "       people_vaccinated_per_hundred  people_fully_vaccinated_per_hundred  \\\n",
       "0                               0.00                                 0.00   \n",
       "1                               0.00                                 0.00   \n",
       "2                               0.00                                 0.00   \n",
       "3                               0.00                                 0.00   \n",
       "4                               0.00                                 0.00   \n",
       "...                              ...                                  ...   \n",
       "12447                           1.94                                 0.25   \n",
       "12448                           1.99                                 0.25   \n",
       "12449                           2.07                                 0.29   \n",
       "12450                           2.15                                 0.31   \n",
       "12451                           2.18                                 0.32   \n",
       "\n",
       "       daily_vaccinations_per_million            vaccines  \n",
       "0                                 0.0  Oxford/AstraZeneca  \n",
       "1                                35.0  Oxford/AstraZeneca  \n",
       "2                                35.0  Oxford/AstraZeneca  \n",
       "3                                35.0  Oxford/AstraZeneca  \n",
       "4                                35.0  Oxford/AstraZeneca  \n",
       "...                               ...                 ...  \n",
       "12447                           737.0   Sinopharm/Beijing  \n",
       "12448                           681.0   Sinopharm/Beijing  \n",
       "12449                           634.0   Sinopharm/Beijing  \n",
       "12450                           589.0   Sinopharm/Beijing  \n",
       "12451                           579.0   Sinopharm/Beijing  \n",
       "\n",
       "[12452 rows x 18 columns]"
      ],
      "text/html": "<div>\n<style scoped>\n    .dataframe tbody tr th:only-of-type {\n        vertical-align: middle;\n    }\n\n    .dataframe tbody tr th {\n        vertical-align: top;\n    }\n\n    .dataframe thead th {\n        text-align: right;\n    }\n</style>\n<table border=\"1\" class=\"dataframe\">\n  <thead>\n    <tr style=\"text-align: right;\">\n      <th></th>\n      <th>country</th>\n      <th>date</th>\n      <th>Confirmed</th>\n      <th>Deaths</th>\n      <th>Recovered</th>\n      <th>Active</th>\n      <th>Incident_Rate</th>\n      <th>Case_Fatality_Ratio</th>\n      <th>total_vaccinations</th>\n      <th>people_vaccinated</th>\n      <th>people_fully_vaccinated</th>\n      <th>daily_vaccinations_raw</th>\n      <th>daily_vaccinations</th>\n      <th>total_vaccinations_per_hundred</th>\n      <th>people_vaccinated_per_hundred</th>\n      <th>people_fully_vaccinated_per_hundred</th>\n      <th>daily_vaccinations_per_million</th>\n      <th>vaccines</th>\n    </tr>\n  </thead>\n  <tbody>\n    <tr>\n      <th>0</th>\n      <td>Afghanistan</td>\n      <td>2021-02-22</td>\n      <td>55617</td>\n      <td>2433</td>\n      <td>48895.0</td>\n      <td>4289.0</td>\n      <td>142.870204</td>\n      <td>4.374562</td>\n      <td>0.0</td>\n      <td>0.0</td>\n      <td>0.0</td>\n      <td>0.0</td>\n      <td>0.0</td>\n      <td>0.00</td>\n      <td>0.00</td>\n      <td>0.00</td>\n      <td>0.0</td>\n      <td>Oxford/AstraZeneca</td>\n    </tr>\n    <tr>\n      <th>1</th>\n      <td>Afghanistan</td>\n      <td>2021-02-23</td>\n      <td>55646</td>\n      <td>2435</td>\n      <td>48967.0</td>\n      <td>4244.0</td>\n      <td>142.944699</td>\n      <td>4.375876</td>\n      <td>0.0</td>\n      <td>0.0</td>\n      <td>0.0</td>\n      <td>0.0</td>\n      <td>1367.0</td>\n      <td>0.00</td>\n      <td>0.00</td>\n      <td>0.00</td>\n      <td>35.0</td>\n      <td>Oxford/AstraZeneca</td>\n    </tr>\n    <tr>\n      <th>2</th>\n      <td>Afghanistan</td>\n      <td>2021-02-24</td>\n      <td>55664</td>\n      <td>2436</td>\n      <td>49086.0</td>\n      <td>4142.0</td>\n      <td>142.990938</td>\n      <td>4.376258</td>\n      <td>0.0</td>\n      <td>0.0</td>\n      <td>0.0</td>\n      <td>0.0</td>\n      <td>1367.0</td>\n      <td>0.00</td>\n      <td>0.00</td>\n      <td>0.00</td>\n      <td>35.0</td>\n      <td>Oxford/AstraZeneca</td>\n    </tr>\n    <tr>\n      <th>3</th>\n      <td>Afghanistan</td>\n      <td>2021-02-25</td>\n      <td>55680</td>\n      <td>2438</td>\n      <td>49281.0</td>\n      <td>3961.0</td>\n      <td>143.032039</td>\n      <td>4.378592</td>\n      <td>0.0</td>\n      <td>0.0</td>\n      <td>0.0</td>\n      <td>0.0</td>\n      <td>1367.0</td>\n      <td>0.00</td>\n      <td>0.00</td>\n      <td>0.00</td>\n      <td>35.0</td>\n      <td>Oxford/AstraZeneca</td>\n    </tr>\n    <tr>\n      <th>4</th>\n      <td>Afghanistan</td>\n      <td>2021-02-26</td>\n      <td>55696</td>\n      <td>2442</td>\n      <td>49285.0</td>\n      <td>3969.0</td>\n      <td>143.073140</td>\n      <td>4.384516</td>\n      <td>0.0</td>\n      <td>0.0</td>\n      <td>0.0</td>\n      <td>0.0</td>\n      <td>1367.0</td>\n      <td>0.00</td>\n      <td>0.00</td>\n      <td>0.00</td>\n      <td>35.0</td>\n      <td>Oxford/AstraZeneca</td>\n    </tr>\n    <tr>\n      <th>...</th>\n      <td>...</td>\n      <td>...</td>\n      <td>...</td>\n      <td>...</td>\n      <td>...</td>\n      <td>...</td>\n      <td>...</td>\n      <td>...</td>\n      <td>...</td>\n      <td>...</td>\n      <td>...</td>\n      <td>...</td>\n      <td>...</td>\n      <td>...</td>\n      <td>...</td>\n      <td>...</td>\n      <td>...</td>\n      <td>...</td>\n    </tr>\n    <tr>\n      <th>12447</th>\n      <td>Zimbabwe</td>\n      <td>2021-04-20</td>\n      <td>37875</td>\n      <td>1554</td>\n      <td>35058.0</td>\n      <td>1263.0</td>\n      <td>254.828675</td>\n      <td>4.102970</td>\n      <td>325007.0</td>\n      <td>288229.0</td>\n      <td>36778.0</td>\n      <td>8016.0</td>\n      <td>10950.0</td>\n      <td>2.19</td>\n      <td>1.94</td>\n      <td>0.25</td>\n      <td>737.0</td>\n      <td>Sinopharm/Beijing</td>\n    </tr>\n    <tr>\n      <th>12448</th>\n      <td>Zimbabwe</td>\n      <td>2021-04-21</td>\n      <td>37980</td>\n      <td>1555</td>\n      <td>35065.0</td>\n      <td>1360.0</td>\n      <td>255.535131</td>\n      <td>4.094260</td>\n      <td>332996.0</td>\n      <td>295631.0</td>\n      <td>37365.0</td>\n      <td>7989.0</td>\n      <td>10124.0</td>\n      <td>2.24</td>\n      <td>1.99</td>\n      <td>0.25</td>\n      <td>681.0</td>\n      <td>Sinopharm/Beijing</td>\n    </tr>\n    <tr>\n      <th>12449</th>\n      <td>Zimbabwe</td>\n      <td>2021-04-22</td>\n      <td>38018</td>\n      <td>1555</td>\n      <td>35073.0</td>\n      <td>1390.0</td>\n      <td>255.790801</td>\n      <td>4.090168</td>\n      <td>351799.0</td>\n      <td>308071.0</td>\n      <td>43728.0</td>\n      <td>18803.0</td>\n      <td>9417.0</td>\n      <td>2.37</td>\n      <td>2.07</td>\n      <td>0.29</td>\n      <td>634.0</td>\n      <td>Sinopharm/Beijing</td>\n    </tr>\n    <tr>\n      <th>12450</th>\n      <td>Zimbabwe</td>\n      <td>2021-04-23</td>\n      <td>38045</td>\n      <td>1556</td>\n      <td>35094.0</td>\n      <td>1395.0</td>\n      <td>255.972461</td>\n      <td>4.089894</td>\n      <td>365985.0</td>\n      <td>319732.0</td>\n      <td>46253.0</td>\n      <td>14186.0</td>\n      <td>8755.0</td>\n      <td>2.46</td>\n      <td>2.15</td>\n      <td>0.31</td>\n      <td>589.0</td>\n      <td>Sinopharm/Beijing</td>\n    </tr>\n    <tr>\n      <th>12451</th>\n      <td>Zimbabwe</td>\n      <td>2021-04-24</td>\n      <td>38064</td>\n      <td>1556</td>\n      <td>35101.0</td>\n      <td>1407.0</td>\n      <td>256.100296</td>\n      <td>4.087852</td>\n      <td>372099.0</td>\n      <td>324488.0</td>\n      <td>47611.0</td>\n      <td>6114.0</td>\n      <td>8600.0</td>\n      <td>2.50</td>\n      <td>2.18</td>\n      <td>0.32</td>\n      <td>579.0</td>\n      <td>Sinopharm/Beijing</td>\n    </tr>\n  </tbody>\n</table>\n<p>12452 rows × 18 columns</p>\n</div>"
     },
     "metadata": {},
     "execution_count": 30
    }
   ],
   "source": [
    "merged_data"
   ]
  },
  {
   "cell_type": "code",
   "execution_count": 32,
   "metadata": {},
   "outputs": [],
   "source": [
    "merged_data.to_csv('Covid Cases and Vaccines Merged.csv',index = False, header=True)"
   ]
  },
  {
   "cell_type": "code",
   "execution_count": null,
   "metadata": {},
   "outputs": [],
   "source": []
  }
 ],
 "metadata": {
  "kernelspec": {
   "name": "python379jvsc74a57bd0f5727159bbb66f7442ae7241f0bd7f923469c5e1d5fef36d4b5c21a95def2c1a",
   "display_name": "Python 3.7.9 64-bit ('bdt': conda)"
  },
  "language_info": {
   "codemirror_mode": {
    "name": "ipython",
    "version": 3
   },
   "file_extension": ".py",
   "mimetype": "text/x-python",
   "name": "python",
   "nbconvert_exporter": "python",
   "pygments_lexer": "ipython3",
   "version": "3.7.9"
  }
 },
 "nbformat": 4,
 "nbformat_minor": 4
}